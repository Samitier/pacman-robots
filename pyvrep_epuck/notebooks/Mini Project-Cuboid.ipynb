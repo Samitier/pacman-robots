{
 "cells": [
  {
   "cell_type": "markdown",
   "metadata": {},
   "source": [
    "# Mini project: Simulating Pac-Man"
   ]
  },
  {
   "cell_type": "markdown",
   "metadata": {},
   "source": [
    "In the last practical session, we saw how run multiple behaviors in parallel on multiple robots. In this section we will see more advanced methods for combining behaviors by modulating behavior activations according to internal states of the robot and by allowing them to sense the attributes of others. In order to start with a clean basis, let's first provide the definition of several behaviors. These four behaviors are simple implementations of the [Braitenberg vehicles](https://cdn.rawgit.com/clement-moulin-frier/rti_course/master/class_1/intro.sozi.html#frame1550) we have seen in class, where the sources (i.e. what is sensed by the proximeters) are other epucks:"
   ]
  },
  {
   "cell_type": "code",
   "execution_count": 1,
   "metadata": {},
   "outputs": [
    {
     "name": "stdout",
     "output_type": "stream",
     "text": [
      "Routine eat started\n",
      "Routine eat started\n",
      "Routine eat started\n",
      "Routine detect_food started\n",
      "Behavior line_following started\n",
      "Routine detect_food started\n",
      "Behavior line_following started\n",
      "Routine detect_food started\n",
      "Behavior line_following started\n",
      "robot unavailable\n",
      "Behavior line_following stopped\n",
      "Routine eat stopped\n",
      "Routine detect_food stopped\n",
      "score: 0\n",
      "robot unavailable\n",
      "Behavior line_following stopped\n",
      "Routine eat stopped\n",
      "Routine detect_food stopped\n",
      "score: 1\n"
     ]
    }
   ],
   "source": [
    "from numpy.linalg import norm\n",
    "from numpy import array\n",
    "\n",
    "from simulator_interface import open_session, close_session\n",
    "simulator, epuck1, epuck2, epuck3 = open_session(n_epucks=3)\n",
    "\n",
    "# First reduce the maximum speed\n",
    "for e in simulator.robots:\n",
    "    e.max_speed = 3\n",
    "    e.num_eats = 0\n",
    "    e.dead = False\n",
    "\n",
    "def line_following(robot):\n",
    "    floor_left, floor_middle, floor_right = robot.floor_sensor()\n",
    "    # if can go right\n",
    "    if floor_middle == 1.0 and floor_right == 1.0 and robot.rotate == 'right':\n",
    "        return  [1.0, 0]\n",
    "    # if can go left\n",
    "    if floor_middle == 1.0 and floor_left == 1.0 and robot.rotate == 'left':\n",
    "        return  [0, 1.0]\n",
    "    if floor_middle == 1.0: return [.3, .3]\n",
    "    if floor_left == 0.0 and floor_right == 0.0: return [0.1, 0]\n",
    "    return [floor_right/2.0, floor_left/2.0]\n",
    "\n",
    "def detect_food(robot):\n",
    "    left, right = robot.prox_activations(tracked_objects=['Cuboid', 'ePuck#'])\n",
    "    if (left > 0 or right > 0):\n",
    "        robot.rotate = 'left' if left > right else 'right'\n",
    "        \n",
    "# Reverse-engineered part of the code in order to make spheres disappear when eaten   \n",
    "def eat(robot): \n",
    "    try:\n",
    "        robot_pos = array(robot.position())\n",
    "    except:\n",
    "        print ('robot unavailable')\n",
    "        robot.stop_all_behaviors()\n",
    "        robot.detach_all_behaviors()\n",
    "        robot.stop_all_routines()\n",
    "        robot.dead = True\n",
    "        print ('score: ' + str(robot.num_eats))\n",
    "        return\n",
    "    for obj in simulator.eatable_objects:\n",
    "       \n",
    "        try:\n",
    "            obj_pos = array(simulator.get_object_position(obj))\n",
    "            if norm(robot_pos - obj_pos) < 0.05 :\n",
    "                continue\n",
    "        except:\n",
    "            break\n",
    "        if norm(robot_pos - obj_pos) < 0.1 :\n",
    "            simulator.eatable_objects.remove(obj)\n",
    "            if obj.startswith('Cuboid'):\n",
    "                robot.num_eats = robot.num_eats+1\n",
    "            else:\n",
    "                if robot.num_eats==0:\n",
    "                    continue\n",
    "            simulator.remove_object(obj)\n",
    "\n",
    "simulator.eatable_objects = ['Cuboid4','Cuboid0', 'Cuboid1', 'Cuboid2', 'Cuboid3', 'ePuck', 'ePuck#0', 'ePuck#1']\n",
    "for e in simulator.robots:\n",
    "    e.detach_all_behaviors()\n",
    "    e.attach_routine(eat, freq=1)\n",
    "    e.start_routine(eat)\n",
    "########\n",
    "\n",
    "for e in simulator.robots:\n",
    "    e.detach_all_behaviors()\n",
    "    e.rotate = 'no'\n",
    "    e.attach_behavior(line_following, freq=10)\n",
    "    e.attach_routine(detect_food, freq=1)\n",
    "    e.start_routine(detect_food)\n",
    "    e.start_all_behaviors()\n",
    "\n",
    "\n",
    "    "
   ]
  },
  {
   "cell_type": "code",
   "execution_count": 2,
   "metadata": {},
   "outputs": [],
   "source": [
    "close_session(simulator)"
   ]
  },
  {
   "cell_type": "code",
   "execution_count": null,
   "metadata": {},
   "outputs": [],
   "source": [
    "close_all_connections()"
   ]
  },
  {
   "cell_type": "code",
   "execution_count": null,
   "metadata": {},
   "outputs": [],
   "source": []
  }
 ],
 "metadata": {
  "kernelspec": {
   "display_name": "Python 3",
   "language": "python",
   "name": "python3"
  },
  "language_info": {
   "codemirror_mode": {
    "name": "ipython",
    "version": 3
   },
   "file_extension": ".py",
   "mimetype": "text/x-python",
   "name": "python",
   "nbconvert_exporter": "python",
   "pygments_lexer": "ipython3",
   "version": "3.7.4"
  }
 },
 "nbformat": 4,
 "nbformat_minor": 1
}
