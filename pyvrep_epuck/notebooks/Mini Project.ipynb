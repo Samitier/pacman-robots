{
 "cells": [
  {
   "cell_type": "markdown",
   "metadata": {},
   "source": [
    "# Mini project: Simulating Pac-Man"
   ]
  },
  {
   "cell_type": "markdown",
   "metadata": {},
   "source": [
    "In the last practical session, we saw how run multiple behaviors in parallel on multiple robots. In this section we will see more advanced methods for combining behaviors by modulating behavior activations according to internal states of the robot and by allowing them to sense the attributes of others. In order to start with a clean basis, let's first provide the definition of several behaviors. These four behaviors are simple implementations of the [Braitenberg vehicles](https://cdn.rawgit.com/clement-moulin-frier/rti_course/master/class_1/intro.sozi.html#frame1550) we have seen in class, where the sources (i.e. what is sensed by the proximeters) are other epucks:"
   ]
  },
  {
   "cell_type": "code",
   "execution_count": null,
   "metadata": {},
   "outputs": [],
   "source": [
    "from simulator_interface import open_session, close_session\n",
    "simulator, epuck = open_session()\n",
    "\n",
    "# First reduce the maximum speed\n",
    "epuck.max_speed = 1.5\n",
    "\n",
    "def line_following(epuck):\n",
    "    floor_left, floor_middle, floor_right = epuck.floor_sensor()\n",
    "    if floor_middle == 1.0 and floor_right == 1.0:\n",
    "        # There's a left turn\n",
    "        return  [1.0, 0]\n",
    "    if floor_middle == 1.0: return [1, 1]\n",
    "    if floor_left == 0.0 and floor_right == 0.0: return [1, 0]\n",
    "    return [floor_right, floor_left] \n",
    "\n",
    "epuck.detach_all_behaviors()\n",
    "epuck.attach_behavior(line_following, freq=10)\n",
    "epuck.start_all_behaviors()\n",
    "    "
   ]
  }
 ],
 "metadata": {
  "kernelspec": {
   "display_name": "Python 3",
   "language": "python",
   "name": "python3"
  },
  "language_info": {
   "codemirror_mode": {
    "name": "ipython",
    "version": 3
   },
   "file_extension": ".py",
   "mimetype": "text/x-python",
   "name": "python",
   "nbconvert_exporter": "python",
   "pygments_lexer": "ipython3",
   "version": "3.7.4"
  }
 },
 "nbformat": 4,
 "nbformat_minor": 1
}
