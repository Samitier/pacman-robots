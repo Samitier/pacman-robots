{
 "cells": [
  {
   "cell_type": "markdown",
   "metadata": {},
   "source": [
    "# Mini project: Simulating Pac-Man"
   ]
  },
  {
   "cell_type": "markdown",
   "metadata": {},
   "source": [
    "In the last practical session, we saw how run multiple behaviors in parallel on multiple robots. In this section we will see more advanced methods for combining behaviors by modulating behavior activations according to internal states of the robot and by allowing them to sense the attributes of others. In order to start with a clean basis, let's first provide the definition of several behaviors. These four behaviors are simple implementations of the [Braitenberg vehicles](https://cdn.rawgit.com/clement-moulin-frier/rti_course/master/class_1/intro.sozi.html#frame1550) we have seen in class, where the sources (i.e. what is sensed by the proximeters) are other epucks:"
   ]
  },
  {
   "cell_type": "code",
   "execution_count": null,
   "metadata": {},
   "outputs": [],
   "source": [
    "from numpy.linalg import norm\n",
    "from numpy import array\n",
    "\n",
    "from simulator_interface import open_session, close_session\n",
    "simulator, epuck1 = open_session(n_epucks=1)\n",
    "\n",
    "# First reduce the maximum speed\n",
    "epuck1.max_speed = 3\n",
    "\n",
    "def line_following(robot):\n",
    "    floor_left, floor_middle, floor_right = robot.floor_sensor()\n",
    "    # if can go right\n",
    "    if floor_middle == 1.0 and floor_right == 1.0 and robot.rotate == 'right':\n",
    "        return  [1.0, 0]\n",
    "    # if can go left\n",
    "    if floor_middle == 1.0 and floor_left == 1.0 and robot.rotate == 'left':\n",
    "        return  [0, 1.0]\n",
    "    if floor_middle == 1.0: return [.3, .3]\n",
    "    if floor_left == 0.0 and floor_right == 0.0: return [0.1, 0]\n",
    "    return [floor_right/2.0, floor_left/2.0]\n",
    "\n",
    "def detect_food(robot):\n",
    "    left, right = robot.prox_activations(tracked_objects=[\"Sphere\"])\n",
    "    if (left > 0 or right > 0):\n",
    "        robot.rotate = 'left' if left > right else 'right'\n",
    "        \n",
    "# Reverse-engineered part of the code in order to make spheres disappear when eaten   \n",
    "def eat(robot):            \n",
    "    robot_pos = array(robot.position())\n",
    "    for obj in simulator.eatable_objects:\n",
    "        try:\n",
    "            obj_pos = array(simulator.get_object_position(obj))\n",
    "        except:\n",
    "            break\n",
    "        if norm(robot_pos - obj_pos) < 0.1:\n",
    "            simulator.eatable_objects.remove(obj)\n",
    "            simulator.remove_object(obj)\n",
    "\n",
    "simulator.eatable_objects = ['Sphere_1', 'Sphere_2', 'Sphere_3', 'Sphere_4', 'Sphere_5']\n",
    "epuck1.attach_routine(eat, freq=1)\n",
    "epuck1.start_routine(eat)\n",
    "########\n",
    "\n",
    "epuck1.detach_all_behaviors()\n",
    "epuck1.rotate = 'no'\n",
    "epuck1.attach_behavior(line_following, freq=10)\n",
    "epuck1.attach_routine(detect_food, freq=1)\n",
    "epuck1.start_routine(detect_food)\n",
    "epuck1.start_all_behaviors()\n",
    "    "
   ]
  },
  {
   "cell_type": "code",
   "execution_count": null,
   "metadata": {},
   "outputs": [],
   "source": [
    "close_session(simulator)"
   ]
  },
  {
   "cell_type": "code",
   "execution_count": null,
   "metadata": {},
   "outputs": [],
   "source": []
  },
  {
   "cell_type": "code",
   "execution_count": null,
   "metadata": {},
   "outputs": [],
   "source": []
  }
 ],
 "metadata": {
  "kernelspec": {
   "display_name": "Python 3",
   "language": "python",
   "name": "python3"
  },
  "language_info": {
   "codemirror_mode": {
    "name": "ipython",
    "version": 3
   },
   "file_extension": ".py",
   "mimetype": "text/x-python",
   "name": "python",
   "nbconvert_exporter": "python",
   "pygments_lexer": "ipython3",
   "version": "3.7.4"
  }
 },
 "nbformat": 4,
 "nbformat_minor": 1
}
